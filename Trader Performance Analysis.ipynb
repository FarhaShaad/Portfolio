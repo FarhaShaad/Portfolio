{
 "cells": [
  {
   "cell_type": "markdown",
   "id": "3212c29f",
   "metadata": {},
   "source": [
    "# Loading dataset"
   ]
  },
  {
   "cell_type": "code",
   "execution_count": 3,
   "id": "e152935c",
   "metadata": {},
   "outputs": [],
   "source": [
    "import pandas as pd\n",
    "\n",
    "# Load trader data\n",
    "trader_df = pd.read_csv(\"C:\\\\Users\\\\hp\\\\Dropbox\\\\PC\\\\Desktop\\\\historical_data.csv\")\n",
    "\n",
    "# Load fear/greed sentiment data\n",
    "sentiment_df = pd.read_csv(\"C:\\\\Users\\\\hp\\\\Dropbox\\\\PC\\\\Desktop\\\\fear_greed_index.csv\")"
   ]
  },
  {
   "cell_type": "code",
   "execution_count": 4,
   "id": "1d8f671b",
   "metadata": {},
   "outputs": [
    {
     "data": {
      "text/html": [
       "<div>\n",
       "<style scoped>\n",
       "    .dataframe tbody tr th:only-of-type {\n",
       "        vertical-align: middle;\n",
       "    }\n",
       "\n",
       "    .dataframe tbody tr th {\n",
       "        vertical-align: top;\n",
       "    }\n",
       "\n",
       "    .dataframe thead th {\n",
       "        text-align: right;\n",
       "    }\n",
       "</style>\n",
       "<table border=\"1\" class=\"dataframe\">\n",
       "  <thead>\n",
       "    <tr style=\"text-align: right;\">\n",
       "      <th></th>\n",
       "      <th>Account</th>\n",
       "      <th>Coin</th>\n",
       "      <th>Execution Price</th>\n",
       "      <th>Size Tokens</th>\n",
       "      <th>Size USD</th>\n",
       "      <th>Side</th>\n",
       "      <th>Timestamp IST</th>\n",
       "      <th>Start Position</th>\n",
       "      <th>Direction</th>\n",
       "      <th>Closed PnL</th>\n",
       "      <th>Transaction Hash</th>\n",
       "      <th>Order ID</th>\n",
       "      <th>Crossed</th>\n",
       "      <th>Fee</th>\n",
       "      <th>Trade ID</th>\n",
       "      <th>Timestamp</th>\n",
       "    </tr>\n",
       "  </thead>\n",
       "  <tbody>\n",
       "    <tr>\n",
       "      <th>0</th>\n",
       "      <td>0xae5eacaf9c6b9111fd53034a602c192a04e082ed</td>\n",
       "      <td>@107</td>\n",
       "      <td>7.9769</td>\n",
       "      <td>986.87</td>\n",
       "      <td>7872.16</td>\n",
       "      <td>BUY</td>\n",
       "      <td>02-12-2024 22:50</td>\n",
       "      <td>0.000000</td>\n",
       "      <td>Buy</td>\n",
       "      <td>0.0</td>\n",
       "      <td>0xec09451986a1874e3a980418412fcd0201f500c95bac...</td>\n",
       "      <td>52017706630</td>\n",
       "      <td>True</td>\n",
       "      <td>0.345404</td>\n",
       "      <td>8.950000e+14</td>\n",
       "      <td>1.730000e+12</td>\n",
       "    </tr>\n",
       "    <tr>\n",
       "      <th>1</th>\n",
       "      <td>0xae5eacaf9c6b9111fd53034a602c192a04e082ed</td>\n",
       "      <td>@107</td>\n",
       "      <td>7.9800</td>\n",
       "      <td>16.00</td>\n",
       "      <td>127.68</td>\n",
       "      <td>BUY</td>\n",
       "      <td>02-12-2024 22:50</td>\n",
       "      <td>986.524596</td>\n",
       "      <td>Buy</td>\n",
       "      <td>0.0</td>\n",
       "      <td>0xec09451986a1874e3a980418412fcd0201f500c95bac...</td>\n",
       "      <td>52017706630</td>\n",
       "      <td>True</td>\n",
       "      <td>0.005600</td>\n",
       "      <td>4.430000e+14</td>\n",
       "      <td>1.730000e+12</td>\n",
       "    </tr>\n",
       "    <tr>\n",
       "      <th>2</th>\n",
       "      <td>0xae5eacaf9c6b9111fd53034a602c192a04e082ed</td>\n",
       "      <td>@107</td>\n",
       "      <td>7.9855</td>\n",
       "      <td>144.09</td>\n",
       "      <td>1150.63</td>\n",
       "      <td>BUY</td>\n",
       "      <td>02-12-2024 22:50</td>\n",
       "      <td>1002.518996</td>\n",
       "      <td>Buy</td>\n",
       "      <td>0.0</td>\n",
       "      <td>0xec09451986a1874e3a980418412fcd0201f500c95bac...</td>\n",
       "      <td>52017706630</td>\n",
       "      <td>True</td>\n",
       "      <td>0.050431</td>\n",
       "      <td>6.600000e+14</td>\n",
       "      <td>1.730000e+12</td>\n",
       "    </tr>\n",
       "    <tr>\n",
       "      <th>3</th>\n",
       "      <td>0xae5eacaf9c6b9111fd53034a602c192a04e082ed</td>\n",
       "      <td>@107</td>\n",
       "      <td>7.9874</td>\n",
       "      <td>142.98</td>\n",
       "      <td>1142.04</td>\n",
       "      <td>BUY</td>\n",
       "      <td>02-12-2024 22:50</td>\n",
       "      <td>1146.558564</td>\n",
       "      <td>Buy</td>\n",
       "      <td>0.0</td>\n",
       "      <td>0xec09451986a1874e3a980418412fcd0201f500c95bac...</td>\n",
       "      <td>52017706630</td>\n",
       "      <td>True</td>\n",
       "      <td>0.050043</td>\n",
       "      <td>1.080000e+15</td>\n",
       "      <td>1.730000e+12</td>\n",
       "    </tr>\n",
       "    <tr>\n",
       "      <th>4</th>\n",
       "      <td>0xae5eacaf9c6b9111fd53034a602c192a04e082ed</td>\n",
       "      <td>@107</td>\n",
       "      <td>7.9894</td>\n",
       "      <td>8.73</td>\n",
       "      <td>69.75</td>\n",
       "      <td>BUY</td>\n",
       "      <td>02-12-2024 22:50</td>\n",
       "      <td>1289.488521</td>\n",
       "      <td>Buy</td>\n",
       "      <td>0.0</td>\n",
       "      <td>0xec09451986a1874e3a980418412fcd0201f500c95bac...</td>\n",
       "      <td>52017706630</td>\n",
       "      <td>True</td>\n",
       "      <td>0.003055</td>\n",
       "      <td>1.050000e+15</td>\n",
       "      <td>1.730000e+12</td>\n",
       "    </tr>\n",
       "  </tbody>\n",
       "</table>\n",
       "</div>"
      ],
      "text/plain": [
       "                                      Account  Coin  Execution Price  \\\n",
       "0  0xae5eacaf9c6b9111fd53034a602c192a04e082ed  @107           7.9769   \n",
       "1  0xae5eacaf9c6b9111fd53034a602c192a04e082ed  @107           7.9800   \n",
       "2  0xae5eacaf9c6b9111fd53034a602c192a04e082ed  @107           7.9855   \n",
       "3  0xae5eacaf9c6b9111fd53034a602c192a04e082ed  @107           7.9874   \n",
       "4  0xae5eacaf9c6b9111fd53034a602c192a04e082ed  @107           7.9894   \n",
       "\n",
       "   Size Tokens  Size USD Side     Timestamp IST  Start Position Direction  \\\n",
       "0       986.87   7872.16  BUY  02-12-2024 22:50        0.000000       Buy   \n",
       "1        16.00    127.68  BUY  02-12-2024 22:50      986.524596       Buy   \n",
       "2       144.09   1150.63  BUY  02-12-2024 22:50     1002.518996       Buy   \n",
       "3       142.98   1142.04  BUY  02-12-2024 22:50     1146.558564       Buy   \n",
       "4         8.73     69.75  BUY  02-12-2024 22:50     1289.488521       Buy   \n",
       "\n",
       "   Closed PnL                                   Transaction Hash     Order ID  \\\n",
       "0         0.0  0xec09451986a1874e3a980418412fcd0201f500c95bac...  52017706630   \n",
       "1         0.0  0xec09451986a1874e3a980418412fcd0201f500c95bac...  52017706630   \n",
       "2         0.0  0xec09451986a1874e3a980418412fcd0201f500c95bac...  52017706630   \n",
       "3         0.0  0xec09451986a1874e3a980418412fcd0201f500c95bac...  52017706630   \n",
       "4         0.0  0xec09451986a1874e3a980418412fcd0201f500c95bac...  52017706630   \n",
       "\n",
       "   Crossed       Fee      Trade ID     Timestamp  \n",
       "0     True  0.345404  8.950000e+14  1.730000e+12  \n",
       "1     True  0.005600  4.430000e+14  1.730000e+12  \n",
       "2     True  0.050431  6.600000e+14  1.730000e+12  \n",
       "3     True  0.050043  1.080000e+15  1.730000e+12  \n",
       "4     True  0.003055  1.050000e+15  1.730000e+12  "
      ]
     },
     "execution_count": 4,
     "metadata": {},
     "output_type": "execute_result"
    }
   ],
   "source": [
    "trader_df.head()"
   ]
  },
  {
   "cell_type": "code",
   "execution_count": 5,
   "id": "90662102",
   "metadata": {},
   "outputs": [
    {
     "data": {
      "text/html": [
       "<div>\n",
       "<style scoped>\n",
       "    .dataframe tbody tr th:only-of-type {\n",
       "        vertical-align: middle;\n",
       "    }\n",
       "\n",
       "    .dataframe tbody tr th {\n",
       "        vertical-align: top;\n",
       "    }\n",
       "\n",
       "    .dataframe thead th {\n",
       "        text-align: right;\n",
       "    }\n",
       "</style>\n",
       "<table border=\"1\" class=\"dataframe\">\n",
       "  <thead>\n",
       "    <tr style=\"text-align: right;\">\n",
       "      <th></th>\n",
       "      <th>timestamp</th>\n",
       "      <th>value</th>\n",
       "      <th>classification</th>\n",
       "      <th>date</th>\n",
       "    </tr>\n",
       "  </thead>\n",
       "  <tbody>\n",
       "    <tr>\n",
       "      <th>0</th>\n",
       "      <td>1517463000</td>\n",
       "      <td>30</td>\n",
       "      <td>Fear</td>\n",
       "      <td>2018-02-01</td>\n",
       "    </tr>\n",
       "    <tr>\n",
       "      <th>1</th>\n",
       "      <td>1517549400</td>\n",
       "      <td>15</td>\n",
       "      <td>Extreme Fear</td>\n",
       "      <td>2018-02-02</td>\n",
       "    </tr>\n",
       "    <tr>\n",
       "      <th>2</th>\n",
       "      <td>1517635800</td>\n",
       "      <td>40</td>\n",
       "      <td>Fear</td>\n",
       "      <td>2018-02-03</td>\n",
       "    </tr>\n",
       "    <tr>\n",
       "      <th>3</th>\n",
       "      <td>1517722200</td>\n",
       "      <td>24</td>\n",
       "      <td>Extreme Fear</td>\n",
       "      <td>2018-02-04</td>\n",
       "    </tr>\n",
       "    <tr>\n",
       "      <th>4</th>\n",
       "      <td>1517808600</td>\n",
       "      <td>11</td>\n",
       "      <td>Extreme Fear</td>\n",
       "      <td>2018-02-05</td>\n",
       "    </tr>\n",
       "  </tbody>\n",
       "</table>\n",
       "</div>"
      ],
      "text/plain": [
       "    timestamp  value classification        date\n",
       "0  1517463000     30           Fear  2018-02-01\n",
       "1  1517549400     15   Extreme Fear  2018-02-02\n",
       "2  1517635800     40           Fear  2018-02-03\n",
       "3  1517722200     24   Extreme Fear  2018-02-04\n",
       "4  1517808600     11   Extreme Fear  2018-02-05"
      ]
     },
     "execution_count": 5,
     "metadata": {},
     "output_type": "execute_result"
    }
   ],
   "source": [
    "sentiment_df.head()"
   ]
  },
  {
   "cell_type": "markdown",
   "id": "b9f541fb",
   "metadata": {},
   "source": [
    "# Preprocessing of trader dataset"
   ]
  },
  {
   "cell_type": "markdown",
   "id": "8296ab08",
   "metadata": {},
   "source": [
    "Checking for datatypes"
   ]
  },
  {
   "cell_type": "code",
   "execution_count": 6,
   "id": "c0fd7be4",
   "metadata": {},
   "outputs": [
    {
     "name": "stdout",
     "output_type": "stream",
     "text": [
      "\n",
      "Column Data Types:\n",
      "Account              object\n",
      "Coin                 object\n",
      "Execution Price     float64\n",
      "Size Tokens         float64\n",
      "Size USD            float64\n",
      "Side                 object\n",
      "Timestamp IST        object\n",
      "Start Position      float64\n",
      "Direction            object\n",
      "Closed PnL          float64\n",
      "Transaction Hash     object\n",
      "Order ID              int64\n",
      "Crossed                bool\n",
      "Fee                 float64\n",
      "Trade ID            float64\n",
      "Timestamp           float64\n",
      "dtype: object\n"
     ]
    }
   ],
   "source": [
    "print(\"\\nColumn Data Types:\")\n",
    "print(trader_df.dtypes)"
   ]
  },
  {
   "cell_type": "markdown",
   "id": "7657304f",
   "metadata": {},
   "source": [
    "CHECKING FOR MISSING VALUES"
   ]
  },
  {
   "cell_type": "code",
   "execution_count": 7,
   "id": "4c0ed4bd",
   "metadata": {},
   "outputs": [
    {
     "name": "stdout",
     "output_type": "stream",
     "text": [
      "\n",
      "Missing Values in Trader Data:\n",
      "Account             0\n",
      "Coin                0\n",
      "Execution Price     0\n",
      "Size Tokens         0\n",
      "Size USD            0\n",
      "Side                0\n",
      "Timestamp IST       0\n",
      "Start Position      0\n",
      "Direction           0\n",
      "Closed PnL          0\n",
      "Transaction Hash    0\n",
      "Order ID            0\n",
      "Crossed             0\n",
      "Fee                 0\n",
      "Trade ID            0\n",
      "Timestamp           0\n",
      "dtype: int64\n"
     ]
    }
   ],
   "source": [
    "print(\"\\nMissing Values in Trader Data:\")\n",
    "print(trader_df.isnull().sum())"
   ]
  },
  {
   "cell_type": "markdown",
   "id": "c35d7fa7",
   "metadata": {},
   "source": [
    "UNIQUE VALUES IN KEY COLUMNS"
   ]
  },
  {
   "cell_type": "code",
   "execution_count": 9,
   "id": "5f606ead",
   "metadata": {},
   "outputs": [
    {
     "name": "stdout",
     "output_type": "stream",
     "text": [
      "\n",
      " Unique Values in Key Columns:\n",
      "- Side (2 unique): ['BUY', 'SELL']\n",
      "- Coin (246 unique): ['@107', 'AAVE', 'DYDX', 'AIXBT', 'GMX', 'EIGEN', 'HYPE', 'SOL', 'SUI', 'DOGE', 'ETH', 'kPEPE', 'TRUMP', 'ONDO', 'ENA', 'LINK', 'XRP', 'S', 'BNB', 'BERA', 'WIF', 'LAYER', 'MKR', 'KAITO', 'IP', 'JUP', 'USUAL', 'ADA', 'BTC', 'PURR/USDC', 'ZRO', '@7', '@19', '@21', '@44', '@48', '@11', '@15', '@46', '@61', '@28', '@45', '@9', '@41', '@38', 'kSHIB', 'GRASS', 'TAO', 'AVAX', '@2', '@6', '@8', '@10', '@12', '@16', '@17', '@35', '@26', '@24', '@32', '@29', '@31', '@33', '@34', '@36', '@37', '@47', '@53', '@74', 'RUNE', 'CANTO', 'NTRN', 'BLUR', 'ZETA', 'MINA', 'MANTA', 'RNDR', 'WLD', 'kBONK', 'ALT', 'INJ', 'STG', 'ZEN', 'MAVIA', 'PIXEL', 'ILV', 'FET', 'STRK', 'CAKE', 'STX', 'ACE', 'PENDLE', 'AR', 'XAI', 'APE', 'MEME', 'NEAR', 'SEI', 'FTM', 'MYRO', 'BIGTIME', 'IMX', 'BADGER', 'POLYX', 'OP', 'TNSR', 'MAV', 'TIA', 'MERL', 'TON', 'PURR', 'ME', 'CRV', 'BRETT', 'CHILLGUY', 'MOODENG', 'VIRTUAL', 'COMP', 'FARTCOIN', 'AI16Z', 'GRIFFAIN', 'ZEREBRO', 'SPX', 'MELANIA', 'PENGU', 'JELLY', 'VVV', 'VINE', 'TST', 'ARK', 'YGG', 'POPCAT', 'NIL', 'MOVE', 'BABY', 'RENDER', 'PROMPT', 'WCT', 'OGN', 'HYPER', 'ZORA', 'BIO', 'INIT', 'TURBO', 'ARB', '@142', 'JTO', 'PYTH', 'MATIC', 'HPOS', 'FXS', 'FIL', 'SHIA', 'PEOPLE', 'UNI', 'SUSHI', 'LOOM', 'USTC', 'RLB', 'ETC', 'GAS', 'BANANA', 'UNIBOT', 'CYBER', 'GMT', 'ENS', 'DYM', 'ETHFI', '@4', '@3', '@20', '@14', '@51', '@125', '@109', '@85', '@59', '@23', '@78', 'GOAT', 'LDO', 'PNUT', '@138', '@151', '@18', '@25', '@42', '@13', '@40', '@39', '@30', '@103', '@100', '@135', '@116', '@147', '@152', '@153', 'ANIME', 'W', 'ORDI', 'IO', 'GALA', 'AI', 'NEIROETH', 'SAND', 'BOME', 'MEW', 'SUPER', 'ALGO', 'HBAR', 'APT', 'BLAST', 'kNEIRO', 'ATOM', 'DOT', 'kFLOKI', 'TRX', 'FTT', '@1', '@83', '@124', '@112', '@95', 'LISTA', 'LTC', 'RSR', 'MNT', '@113', 'ZK', '@117', '@86', '@68', '@63', 'MORPHO', 'OM', 'REZ', 'REQ', '@49', 'BNT', 'SCR', 'IOTA', '@93', '@114', '@123', 'PAXG']\n",
      "- Direction (12 unique): ['Buy', 'Sell', 'Open Long', 'Close Long', 'Spot Dust Conversion', 'Open Short', 'Close Short', 'Long > Short', 'Short > Long', 'Auto-Deleveraging', 'Liquidated Isolated Short', 'Settlement']\n"
     ]
    }
   ],
   "source": [
    "print(\"\\n Unique Values in Key Columns:\")\n",
    "for col in ['Side', 'Coin', 'Direction']:  \n",
    "    if col in trader_df.columns:\n",
    "        unique_vals = trader_df[col].dropna().unique().tolist()\n",
    "        print(f\"- {col} ({len(unique_vals)} unique): {unique_vals}\")"
   ]
  },
  {
   "cell_type": "markdown",
   "id": "3ed7adb1",
   "metadata": {},
   "source": [
    "CONVERTING NUMERIC COLUMNS"
   ]
  },
  {
   "cell_type": "code",
   "execution_count": 10,
   "id": "dd1d5807",
   "metadata": {},
   "outputs": [],
   "source": [
    "numeric_cols = [\n",
    "    'Execution Price', 'Size Tokens', 'Size USD', \n",
    "    'Start Position', 'Closed PnL', 'Fee', \n",
    "    'Trade ID', 'Timestamp'\n",
    "]\n",
    "\n",
    "for col in numeric_cols:\n",
    "    if col in trader_df.columns:\n",
    "        trader_df[col] = pd.to_numeric(trader_df[col], errors='coerce')"
   ]
  },
  {
   "cell_type": "markdown",
   "id": "b7f80698",
   "metadata": {},
   "source": [
    "CONVERTING BOOLEAN COLUMN"
   ]
  },
  {
   "cell_type": "code",
   "execution_count": 11,
   "id": "3f4f1e1c",
   "metadata": {},
   "outputs": [],
   "source": [
    "if 'Crossed' in trader_df.columns:\n",
    "    trader_df['Crossed'] = trader_df['Crossed'].astype(bool)"
   ]
  },
  {
   "cell_type": "markdown",
   "id": "744461f0",
   "metadata": {},
   "source": [
    "CONVERTING ORDER ID TO STRING"
   ]
  },
  {
   "cell_type": "code",
   "execution_count": 12,
   "id": "08ca5e26",
   "metadata": {},
   "outputs": [],
   "source": [
    "if 'Order ID' in trader_df.columns:\n",
    "    trader_df['Order ID'] = trader_df['Order ID'].astype(str)"
   ]
  },
  {
   "cell_type": "markdown",
   "id": "2b94f198",
   "metadata": {},
   "source": [
    "CONVERTING TIMESTAMP COLUMNS"
   ]
  },
  {
   "cell_type": "code",
   "execution_count": 13,
   "id": "8e00afb4",
   "metadata": {},
   "outputs": [],
   "source": [
    "if 'Timestamp IST' in trader_df.columns:\n",
    "    trader_df['Timestamp IST'] = pd.to_datetime(\n",
    "        trader_df['Timestamp IST'], format='%d-%m-%Y %H:%M', errors='coerce'\n",
    "    )"
   ]
  },
  {
   "cell_type": "code",
   "execution_count": 14,
   "id": "3f4f1a9c",
   "metadata": {},
   "outputs": [],
   "source": [
    "if 'Timestamp' in trader_df.columns:\n",
    "    trader_df['Timestamp_parsed'] = pd.to_datetime(\n",
    "        trader_df['Timestamp'], unit='s', errors='coerce'\n",
    "    )"
   ]
  },
  {
   "cell_type": "code",
   "execution_count": 16,
   "id": "eb035cf4",
   "metadata": {},
   "outputs": [
    {
     "name": "stdout",
     "output_type": "stream",
     "text": [
      "Sample values from 'Timestamp' column:\n",
      "0    1.730000e+12\n",
      "1    1.730000e+12\n",
      "2    1.730000e+12\n",
      "3    1.730000e+12\n",
      "4    1.730000e+12\n",
      "5    1.730000e+12\n",
      "6    1.730000e+12\n",
      "7    1.730000e+12\n",
      "8    1.730000e+12\n",
      "9    1.730000e+12\n",
      "Name: Timestamp, dtype: float64\n",
      "\n",
      "Minimum and Maximum:\n",
      "1680000000000.0 1750000000000.0\n"
     ]
    }
   ],
   "source": [
    "print(\"Sample values from 'Timestamp' column:\")\n",
    "print(trader_df['Timestamp'].head(10))\n",
    "\n",
    "print(\"\\nMinimum and Maximum:\")\n",
    "print(trader_df['Timestamp'].min(), trader_df['Timestamp'].max())"
   ]
  },
  {
   "cell_type": "markdown",
   "id": "02874fcc",
   "metadata": {},
   "source": [
    "Converting from milliseconds to datetime"
   ]
  },
  {
   "cell_type": "code",
   "execution_count": 17,
   "id": "18bc072c",
   "metadata": {},
   "outputs": [],
   "source": [
    "trader_df['Timestamp_parsed'] = pd.to_datetime(\n",
    "    trader_df['Timestamp'], unit='ms', errors='coerce'\n",
    ")"
   ]
  },
  {
   "cell_type": "code",
   "execution_count": 18,
   "id": "9fb9587c",
   "metadata": {},
   "outputs": [
    {
     "name": "stdout",
     "output_type": "stream",
     "text": [
      "      Timestamp    Timestamp_parsed\n",
      "0  1.730000e+12 2024-10-27 03:33:20\n",
      "1  1.730000e+12 2024-10-27 03:33:20\n",
      "2  1.730000e+12 2024-10-27 03:33:20\n",
      "3  1.730000e+12 2024-10-27 03:33:20\n",
      "4  1.730000e+12 2024-10-27 03:33:20\n",
      "\n",
      "Missing parsed timestamps: 0\n",
      "\n",
      "Date range: 2023-03-28 10:40:00 → 2025-06-15 15:06:40\n"
     ]
    }
   ],
   "source": [
    "print(trader_df[['Timestamp', 'Timestamp_parsed']].head())\n",
    "print(\"\\nMissing parsed timestamps:\", trader_df['Timestamp_parsed'].isnull().sum())\n",
    "print(\"\\nDate range:\", trader_df['Timestamp_parsed'].min(), \"→\", trader_df['Timestamp_parsed'].max())"
   ]
  },
  {
   "cell_type": "markdown",
   "id": "c8978df8",
   "metadata": {},
   "source": [
    "CLEANED TRADER DATASET"
   ]
  },
  {
   "cell_type": "code",
   "execution_count": 19,
   "id": "ee0c295e",
   "metadata": {},
   "outputs": [
    {
     "name": "stdout",
     "output_type": "stream",
     "text": [
      "\n",
      " Cleaned Data Types:\n",
      "\n",
      "Account                     object\n",
      "Coin                        object\n",
      "Execution Price            float64\n",
      "Size Tokens                float64\n",
      "Size USD                   float64\n",
      "Side                        object\n",
      "Timestamp IST       datetime64[ns]\n",
      "Start Position             float64\n",
      "Direction                   object\n",
      "Closed PnL                 float64\n",
      "Transaction Hash            object\n",
      "Order ID                    object\n",
      "Crossed                       bool\n",
      "Fee                        float64\n",
      "Trade ID                   float64\n",
      "Timestamp                  float64\n",
      "Timestamp_parsed    datetime64[ns]\n",
      "dtype: object\n",
      "\n",
      " Missing Values After Cleaning:\n",
      "\n",
      "Account             0\n",
      "Coin                0\n",
      "Execution Price     0\n",
      "Size Tokens         0\n",
      "Size USD            0\n",
      "Side                0\n",
      "Timestamp IST       0\n",
      "Start Position      0\n",
      "Direction           0\n",
      "Closed PnL          0\n",
      "Transaction Hash    0\n",
      "Order ID            0\n",
      "Crossed             0\n",
      "Fee                 0\n",
      "Trade ID            0\n",
      "Timestamp           0\n",
      "Timestamp_parsed    0\n",
      "dtype: int64\n",
      "\n",
      " Sample of parsed timestamps:\n",
      "        Timestamp IST    Timestamp_parsed\n",
      "0 2024-12-02 22:50:00 2024-10-27 03:33:20\n",
      "1 2024-12-02 22:50:00 2024-10-27 03:33:20\n",
      "2 2024-12-02 22:50:00 2024-10-27 03:33:20\n",
      "3 2024-12-02 22:50:00 2024-10-27 03:33:20\n",
      "4 2024-12-02 22:50:00 2024-10-27 03:33:20\n"
     ]
    }
   ],
   "source": [
    "print(\"\\n Cleaned Data Types:\\n\")\n",
    "print(trader_df.dtypes)\n",
    "\n",
    "print(\"\\n Missing Values After Cleaning:\\n\")\n",
    "print(trader_df.isnull().sum())\n",
    "\n",
    "print(\"\\n Sample of parsed timestamps:\")\n",
    "print(trader_df[['Timestamp IST', 'Timestamp_parsed']].head())"
   ]
  },
  {
   "cell_type": "markdown",
   "id": "08994260",
   "metadata": {},
   "source": [
    "# Preprocessing of Sentiment dataset"
   ]
  },
  {
   "cell_type": "markdown",
   "id": "39db59f8",
   "metadata": {},
   "source": [
    "CHECKING FOR NULL VALUES"
   ]
  },
  {
   "cell_type": "code",
   "execution_count": 20,
   "id": "917446eb",
   "metadata": {},
   "outputs": [
    {
     "name": "stdout",
     "output_type": "stream",
     "text": [
      "\n",
      "Missing Values in Fear Greed Data:\n",
      "timestamp         0\n",
      "value             0\n",
      "classification    0\n",
      "date              0\n",
      "dtype: int64\n"
     ]
    }
   ],
   "source": [
    "print(\"\\nMissing Values in Fear Greed Data:\")\n",
    "print(sentiment_df.isnull().sum())"
   ]
  },
  {
   "cell_type": "markdown",
   "id": "f90dbe02",
   "metadata": {},
   "source": [
    "CONVERTING TIMESTAMP TO DATETIME"
   ]
  },
  {
   "cell_type": "code",
   "execution_count": 22,
   "id": "ed5f17da",
   "metadata": {},
   "outputs": [],
   "source": [
    "sentiment_df['Date'] = pd.to_datetime(sentiment_df['timestamp'], unit='s')"
   ]
  },
  {
   "cell_type": "markdown",
   "id": "6db38e5a",
   "metadata": {},
   "source": [
    "NORMALIZING THE CLASSIFICATION COLUMN"
   ]
  },
  {
   "cell_type": "code",
   "execution_count": 23,
   "id": "d4aefa66",
   "metadata": {},
   "outputs": [],
   "source": [
    "sentiment_df['classification'] = sentiment_df['classification'].str.strip().str.title()"
   ]
  },
  {
   "cell_type": "markdown",
   "id": "7c213302",
   "metadata": {},
   "source": [
    "KEEPING ONLY NECESSARY COLUMNS"
   ]
  },
  {
   "cell_type": "code",
   "execution_count": 24,
   "id": "6aa198ad",
   "metadata": {},
   "outputs": [],
   "source": [
    "sentiment_df = sentiment_df[['Date', 'value', 'classification']]"
   ]
  },
  {
   "cell_type": "markdown",
   "id": "cd917920",
   "metadata": {},
   "source": [
    "EXTRACTING JUST THE DATE FOR MERGING"
   ]
  },
  {
   "cell_type": "code",
   "execution_count": 25,
   "id": "237dd558",
   "metadata": {},
   "outputs": [],
   "source": [
    "sentiment_df['Date'] = sentiment_df['Date'].dt.date"
   ]
  },
  {
   "cell_type": "code",
   "execution_count": 26,
   "id": "7b10309c",
   "metadata": {},
   "outputs": [
    {
     "name": "stdout",
     "output_type": "stream",
     "text": [
      "         Date  value classification\n",
      "0  2018-02-01     30           Fear\n",
      "1  2018-02-02     15   Extreme Fear\n",
      "2  2018-02-03     40           Fear\n",
      "3  2018-02-04     24   Extreme Fear\n",
      "4  2018-02-05     11   Extreme Fear\n"
     ]
    }
   ],
   "source": [
    "print(sentiment_df.head())"
   ]
  },
  {
   "cell_type": "markdown",
   "id": "4f2c2448",
   "metadata": {},
   "source": [
    "# Merging both datasets"
   ]
  },
  {
   "cell_type": "code",
   "execution_count": 30,
   "id": "a65f1d3f",
   "metadata": {},
   "outputs": [],
   "source": [
    "# Convert 'Date' column to datetime format\n",
    "sentiment_df['Date'] = pd.to_datetime(sentiment_df['Date'], errors='coerce')\n",
    "\n",
    "# Now extract only the date part\n",
    "sentiment_df['date_only'] = sentiment_df['Date'].dt.date\n"
   ]
  },
  {
   "cell_type": "code",
   "execution_count": 31,
   "id": "df9b73b5",
   "metadata": {},
   "outputs": [],
   "source": [
    "trader_df['date_only'] = trader_df['Timestamp_parsed'].dt.date\n",
    "\n",
    "merged_df = pd.merge(\n",
    "    trader_df,\n",
    "    sentiment_df[['date_only', 'classification']],\n",
    "    on='date_only',\n",
    "    how='left'\n",
    ")"
   ]
  },
  {
   "cell_type": "code",
   "execution_count": 33,
   "id": "7dece364",
   "metadata": {},
   "outputs": [
    {
     "name": "stdout",
     "output_type": "stream",
     "text": [
      "Rows with sentiment classification: 184263\n",
      "Rows without sentiment classification: 26961\n"
     ]
    }
   ],
   "source": [
    "print(\"Rows with sentiment classification:\", merged_df['classification'].notna().sum())\n",
    "print(\"Rows without sentiment classification:\", merged_df['classification'].isna().sum())\n"
   ]
  },
  {
   "cell_type": "markdown",
   "id": "73606e6c",
   "metadata": {},
   "source": [
    "# Exploratory Data Analysis (EDA)"
   ]
  },
  {
   "cell_type": "markdown",
   "id": "f98e61cb",
   "metadata": {},
   "source": [
    "TOTAL TRADE IN FEAR VS GREED"
   ]
  },
  {
   "cell_type": "code",
   "execution_count": 36,
   "id": "6c81a489",
   "metadata": {},
   "outputs": [
    {
     "name": "stdout",
     "output_type": "stream",
     "text": [
      "classification\n",
      "Fear             133871\n",
      "Greed             36289\n",
      "Neutral            7141\n",
      "Extreme Greed      6962\n",
      "Name: count, dtype: int64\n"
     ]
    }
   ],
   "source": [
    "print(merged_df['classification'].value_counts())"
   ]
  },
  {
   "cell_type": "markdown",
   "id": "c8953781",
   "metadata": {},
   "source": [
    "PnL COMPARISON"
   ]
  },
  {
   "cell_type": "code",
   "execution_count": 38,
   "id": "5dc16760",
   "metadata": {},
   "outputs": [
    {
     "name": "stdout",
     "output_type": "stream",
     "text": [
      "Index(['Account', 'Coin', 'Execution Price', 'Size Tokens', 'Size USD', 'Side',\n",
      "       'Timestamp IST', 'Start Position', 'Direction', 'Closed PnL',\n",
      "       'Transaction Hash', 'Order ID', 'Crossed', 'Fee', 'Trade ID',\n",
      "       'Timestamp', 'Timestamp_parsed', 'date_only', 'classification'],\n",
      "      dtype='object')\n"
     ]
    }
   ],
   "source": [
    "print(merged_df.columns)"
   ]
  },
  {
   "cell_type": "code",
   "execution_count": 39,
   "id": "cc31dcaf",
   "metadata": {},
   "outputs": [
    {
     "data": {
      "text/html": [
       "<div>\n",
       "<style scoped>\n",
       "    .dataframe tbody tr th:only-of-type {\n",
       "        vertical-align: middle;\n",
       "    }\n",
       "\n",
       "    .dataframe tbody tr th {\n",
       "        vertical-align: top;\n",
       "    }\n",
       "\n",
       "    .dataframe thead th {\n",
       "        text-align: right;\n",
       "    }\n",
       "</style>\n",
       "<table border=\"1\" class=\"dataframe\">\n",
       "  <thead>\n",
       "    <tr style=\"text-align: right;\">\n",
       "      <th></th>\n",
       "      <th>count</th>\n",
       "      <th>mean</th>\n",
       "      <th>std</th>\n",
       "      <th>min</th>\n",
       "      <th>25%</th>\n",
       "      <th>50%</th>\n",
       "      <th>75%</th>\n",
       "      <th>max</th>\n",
       "    </tr>\n",
       "    <tr>\n",
       "      <th>classification</th>\n",
       "      <th></th>\n",
       "      <th></th>\n",
       "      <th></th>\n",
       "      <th></th>\n",
       "      <th></th>\n",
       "      <th></th>\n",
       "      <th></th>\n",
       "      <th></th>\n",
       "    </tr>\n",
       "  </thead>\n",
       "  <tbody>\n",
       "    <tr>\n",
       "      <th>Extreme Greed</th>\n",
       "      <td>6962.0</td>\n",
       "      <td>25.418772</td>\n",
       "      <td>306.166937</td>\n",
       "      <td>-21524.40000</td>\n",
       "      <td>0.0</td>\n",
       "      <td>0.0</td>\n",
       "      <td>16.186514</td>\n",
       "      <td>2500.95750</td>\n",
       "    </tr>\n",
       "    <tr>\n",
       "      <th>Fear</th>\n",
       "      <td>133871.0</td>\n",
       "      <td>50.047622</td>\n",
       "      <td>909.121796</td>\n",
       "      <td>-35681.74723</td>\n",
       "      <td>0.0</td>\n",
       "      <td>0.0</td>\n",
       "      <td>6.042830</td>\n",
       "      <td>135329.09010</td>\n",
       "    </tr>\n",
       "    <tr>\n",
       "      <th>Greed</th>\n",
       "      <td>36289.0</td>\n",
       "      <td>87.894859</td>\n",
       "      <td>1148.343968</td>\n",
       "      <td>-117990.10410</td>\n",
       "      <td>0.0</td>\n",
       "      <td>0.0</td>\n",
       "      <td>9.239366</td>\n",
       "      <td>44223.45187</td>\n",
       "    </tr>\n",
       "    <tr>\n",
       "      <th>Neutral</th>\n",
       "      <td>7141.0</td>\n",
       "      <td>22.229713</td>\n",
       "      <td>633.704815</td>\n",
       "      <td>-18360.67007</td>\n",
       "      <td>0.0</td>\n",
       "      <td>0.0</td>\n",
       "      <td>1.950048</td>\n",
       "      <td>18282.19011</td>\n",
       "    </tr>\n",
       "  </tbody>\n",
       "</table>\n",
       "</div>"
      ],
      "text/plain": [
       "                   count       mean          std           min  25%  50%  \\\n",
       "classification                                                             \n",
       "Extreme Greed     6962.0  25.418772   306.166937  -21524.40000  0.0  0.0   \n",
       "Fear            133871.0  50.047622   909.121796  -35681.74723  0.0  0.0   \n",
       "Greed            36289.0  87.894859  1148.343968 -117990.10410  0.0  0.0   \n",
       "Neutral           7141.0  22.229713   633.704815  -18360.67007  0.0  0.0   \n",
       "\n",
       "                      75%           max  \n",
       "classification                           \n",
       "Extreme Greed   16.186514    2500.95750  \n",
       "Fear             6.042830  135329.09010  \n",
       "Greed            9.239366   44223.45187  \n",
       "Neutral          1.950048   18282.19011  "
      ]
     },
     "execution_count": 39,
     "metadata": {},
     "output_type": "execute_result"
    }
   ],
   "source": [
    "merged_df.groupby('classification')['Closed PnL'].describe()"
   ]
  },
  {
   "cell_type": "markdown",
   "id": "d59cc799",
   "metadata": {},
   "source": [
    "DEFINE WIN/LOSS"
   ]
  },
  {
   "cell_type": "code",
   "execution_count": 40,
   "id": "4cfaf631",
   "metadata": {},
   "outputs": [],
   "source": [
    "merged_df['is_win'] = merged_df['Closed PnL'] > 0"
   ]
  },
  {
   "cell_type": "markdown",
   "id": "ecb33e17",
   "metadata": {},
   "source": [
    "WIN RATE PER SENTIMENT"
   ]
  },
  {
   "cell_type": "code",
   "execution_count": 41,
   "id": "c852321a",
   "metadata": {},
   "outputs": [
    {
     "name": "stdout",
     "output_type": "stream",
     "text": [
      "classification\n",
      "Extreme Greed    0.490089\n",
      "Fear             0.415146\n",
      "Greed            0.446471\n",
      "Neutral          0.317182\n",
      "Name: is_win, dtype: float64\n"
     ]
    }
   ],
   "source": [
    "win_rate = merged_df.groupby('classification')['is_win'].mean()\n",
    "print(win_rate)"
   ]
  },
  {
   "cell_type": "markdown",
   "id": "5837f3e8",
   "metadata": {},
   "source": [
    "TRADE DIRECTION TRENDS (BUY VS SELL)"
   ]
  },
  {
   "cell_type": "code",
   "execution_count": 44,
   "id": "7f6588a2",
   "metadata": {},
   "outputs": [
    {
     "data": {
      "text/html": [
       "<div>\n",
       "<style scoped>\n",
       "    .dataframe tbody tr th:only-of-type {\n",
       "        vertical-align: middle;\n",
       "    }\n",
       "\n",
       "    .dataframe tbody tr th {\n",
       "        vertical-align: top;\n",
       "    }\n",
       "\n",
       "    .dataframe thead th {\n",
       "        text-align: right;\n",
       "    }\n",
       "</style>\n",
       "<table border=\"1\" class=\"dataframe\">\n",
       "  <thead>\n",
       "    <tr style=\"text-align: right;\">\n",
       "      <th>Side</th>\n",
       "      <th>BUY</th>\n",
       "      <th>SELL</th>\n",
       "    </tr>\n",
       "    <tr>\n",
       "      <th>classification</th>\n",
       "      <th></th>\n",
       "      <th></th>\n",
       "    </tr>\n",
       "  </thead>\n",
       "  <tbody>\n",
       "    <tr>\n",
       "      <th>Extreme Greed</th>\n",
       "      <td>3371</td>\n",
       "      <td>3591</td>\n",
       "    </tr>\n",
       "    <tr>\n",
       "      <th>Fear</th>\n",
       "      <td>66081</td>\n",
       "      <td>67790</td>\n",
       "    </tr>\n",
       "    <tr>\n",
       "      <th>Greed</th>\n",
       "      <td>15421</td>\n",
       "      <td>20868</td>\n",
       "    </tr>\n",
       "    <tr>\n",
       "      <th>Neutral</th>\n",
       "      <td>3505</td>\n",
       "      <td>3636</td>\n",
       "    </tr>\n",
       "  </tbody>\n",
       "</table>\n",
       "</div>"
      ],
      "text/plain": [
       "Side              BUY   SELL\n",
       "classification              \n",
       "Extreme Greed    3371   3591\n",
       "Fear            66081  67790\n",
       "Greed           15421  20868\n",
       "Neutral          3505   3636"
      ]
     },
     "execution_count": 44,
     "metadata": {},
     "output_type": "execute_result"
    }
   ],
   "source": [
    "merged_df.groupby(['classification', 'Side']).size().unstack()"
   ]
  },
  {
   "cell_type": "markdown",
   "id": "c9e8a39a",
   "metadata": {},
   "source": [
    "# VISUALIZATION "
   ]
  },
  {
   "cell_type": "markdown",
   "id": "7bedc581",
   "metadata": {},
   "source": [
    "PnL DISTRIBUTION UNDER FEARA VS GREED"
   ]
  },
  {
   "cell_type": "code",
   "execution_count": 45,
   "id": "7fddc894",
   "metadata": {},
   "outputs": [
    {
     "data": {
      "image/png": "[encoded data removed]",
      "text/plain": [
       "<Figure size 1000x600 with 1 Axes>"
      ]
     },
     "metadata": {},
     "output_type": "display_data"
    }
   ],
   "source": [
    "import matplotlib.pyplot as plt\n",
    "\n",
    "# Filter PnL data for 'Fear' and 'Greed' classifications\n",
    "fear_pnl = merged_df[merged_df['classification'] == 'Fear']['Closed PnL']\n",
    "greed_pnl = merged_df[merged_df['classification'] == 'Greed']['Closed PnL']\n",
    "\n",
    "# Plot histograms\n",
    "plt.figure(figsize=(10, 6))\n",
    "plt.hist(fear_pnl, bins=100, alpha=0.6, label='Fear', density=True)\n",
    "plt.hist(greed_pnl, bins=100, alpha=0.6, label='Greed', density=True)\n",
    "plt.xlim(-5000, 5000)  \n",
    "plt.xlabel('Closed PnL')\n",
    "plt.ylabel('Density')\n",
    "plt.title('Closed PnL Distribution: Fear vs Greed')\n",
    "plt.legend()\n",
    "plt.grid(True)\n",
    "plt.tight_layout()\n",
    "plt.show()\n"
   ]
  },
  {
   "cell_type": "markdown",
   "id": "28a44027",
   "metadata": {},
   "source": [
    "PnL DISTRIBUTION BY SENTIMENT"
   ]
  },
  {
   "cell_type": "code",
   "execution_count": 50,
   "id": "2538fcca",
   "metadata": {},
   "outputs": [
    {
     "data": {
      "image/png": "[encoded data removed]",
      "text/plain": [
       "<Figure size 1000x600 with 1 Axes>"
      ]
     },
     "metadata": {},
     "output_type": "display_data"
    }
   ],
   "source": [
    "plt.figure(figsize=(10, 6))\n",
    "sns.boxplot(x='classification', y='Closed PnL', data=merged_df)\n",
    "plt.title('PnL Distribution by Sentiment Classification')\n",
    "plt.xlabel('Sentiment')\n",
    "plt.ylabel('Closed PnL')\n",
    "plt.tight_layout()\n",
    "plt.show()\n"
   ]
  },
  {
   "cell_type": "markdown",
   "id": "a2d21b70",
   "metadata": {},
   "source": [
    "PnL OVER TIME BY SENTIMENT"
   ]
  },
  {
   "cell_type": "code",
   "execution_count": 49,
   "id": "f95d57cd",
   "metadata": {},
   "outputs": [
    {
     "data": {
      "image/png": "[encoded data removed]",
      "text/plain": [
       "<Figure size 1200x600 with 1 Axes>"
      ]
     },
     "metadata": {},
     "output_type": "display_data"
    }
   ],
   "source": [
    "import seaborn as sns\n",
    "\n",
    "plt.figure(figsize=(12, 6))\n",
    "sns.lineplot(data=merged_df, x='date_only', y='Closed PnL', hue='classification')\n",
    "plt.title('PnL Over Time by Market Sentiment')\n",
    "plt.xlabel('Date')\n",
    "plt.ylabel('Closed PnL')\n",
    "plt.grid(True)\n",
    "plt.tight_layout()\n",
    "plt.show()\n"
   ]
  },
  {
   "cell_type": "markdown",
   "id": "72323f85",
   "metadata": {},
   "source": [
    "NUMBER OF TRADES PER SENTIMENT"
   ]
  },
  {
   "cell_type": "code",
   "execution_count": 46,
   "id": "d945d231",
   "metadata": {},
   "outputs": [
    {
     "data": {
      "image/png": "[encoded data removed]",
      "text/plain": [
       "<Figure size 800x500 with 1 Axes>"
      ]
     },
     "metadata": {},
     "output_type": "display_data"
    }
   ],
   "source": [
    "# Count number of trades per sentiment\n",
    "trade_counts = merged_df['classification'].value_counts()\n",
    "\n",
    "# Plot bar chart\n",
    "plt.figure(figsize=(8, 5))\n",
    "trade_counts.plot(kind='bar', color='skyblue', edgecolor='black')\n",
    "plt.title('Number of Trades per Sentiment Classification')\n",
    "plt.xlabel('Sentiment Classification')\n",
    "plt.ylabel('Number of Trades')\n",
    "plt.xticks(rotation=45)\n",
    "plt.grid(axis='y', linestyle='--', alpha=0.7)\n",
    "plt.tight_layout()\n",
    "plt.show()\n"
   ]
  },
  {
   "cell_type": "markdown",
   "id": "b06bb77d",
   "metadata": {},
   "source": [
    "BUY VS SELL COMPARISON"
   ]
  },
  {
   "cell_type": "code",
   "execution_count": 48,
   "id": "91ba9ae6",
   "metadata": {},
   "outputs": [
    {
     "data": {
      "image/png": "[encoded data removed]",
      "text/plain": [
       "<Figure size 640x480 with 1 Axes>"
      ]
     },
     "metadata": {},
     "output_type": "display_data"
    }
   ],
   "source": [
    "merged_df['Side'].value_counts().plot.pie(autopct='%1.1f%%', colors=['#66b3ff','#ff9999'], startangle=90)\n",
    "plt.title('Overall BUY vs SELL Distribution')\n",
    "plt.ylabel('')\n",
    "plt.tight_layout()\n",
    "plt.show()"
   ]
  },
  {
   "cell_type": "code",
   "execution_count": null,
   "id": "3a5326c5",
   "metadata": {},
   "outputs": [],
   "source": []
  }
 ],
 "metadata": {
  "kernelspec": {
   "display_name": "Python 3 (ipykernel)",
   "language": "python",
   "name": "python3"
  },
  "language_info": {
   "codemirror_mode": {
    "name": "ipython",
    "version": 3
   },
   "file_extension": ".py",
   "mimetype": "text/x-python",
   "name": "python",
   "nbconvert_exporter": "python",
   "pygments_lexer": "ipython3",
   "version": "3.11.5"
  }
 },
 "nbformat": 4,
 "nbformat_minor": 5
}
